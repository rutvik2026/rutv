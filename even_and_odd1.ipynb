{
  "nbformat": 4,
  "nbformat_minor": 0,
  "metadata": {
    "colab": {
      "provenance": [],
      "authorship_tag": "ABX9TyOIKyPXOz/L5Z5jH6mVVSIG",
      "include_colab_link": true
    },
    "kernelspec": {
      "name": "python3",
      "display_name": "Python 3"
    },
    "language_info": {
      "name": "python"
    }
  },
  "cells": [
    {
      "cell_type": "markdown",
      "metadata": {
        "id": "view-in-github",
        "colab_type": "text"
      },
      "source": [
        "<a href=\"https://colab.research.google.com/github/rutvik2026/rutv/blob/main/even_and_odd1.ipynb\" target=\"_parent\"><img src=\"https://colab.research.google.com/assets/colab-badge.svg\" alt=\"Open In Colab\"/></a>"
      ]
    },
    {
      "cell_type": "code",
      "execution_count": null,
      "metadata": {
        "colab": {
          "base_uri": "https://localhost:8080/"
        },
        "id": "Cf0JAR34qSvf",
        "outputId": "b74c65f0-f649-4469-c5b9-d7e372c43b91"
      },
      "outputs": [
        {
          "output_type": "stream",
          "name": "stdout",
          "text": [
            "2500\n",
            "2550\n"
          ]
        }
      ],
      "source": [
        "s=0; f=0;\n",
        "for i in range(1,101):\n",
        "  if(i%2==0):\n",
        "    s=s+i\n",
        "\n",
        "  else:\n",
        "    f=f+i\n",
        "print(f)\n",
        "print(s)"
      ]
    }
  ]
}